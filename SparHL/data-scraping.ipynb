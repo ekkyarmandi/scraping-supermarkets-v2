{
 "cells": [
  {
   "cell_type": "code",
   "execution_count": 24,
   "id": "3bcb9830-7810-4ee6-968b-117426a17b4d",
   "metadata": {},
   "outputs": [],
   "source": [
    "import requests\n",
    "from bs4 import BeautifulSoup\n",
    "from math import ceil, nan\n",
    "import json, re, os\n",
    "\n",
    "headers = {\"user-agent\":\"Mozilla/5.0 (Windows NT 10.0; Win64; x64) AppleWebKit/537.36 (KHTML, like Gecko) Chrome/98.0.4758.82 Safari/537.36\"}\n",
    "\n",
    "def render_html(url):\n",
    "    req = requests.get(url,headers=headers)\n",
    "    page = BeautifulSoup(req.text,\"html.parser\")\n",
    "    return page\n",
    "\n",
    "# find product calories\n",
    "def find_calories(page):\n",
    "    div = page.find(\"div\",class_=\"c-offer__nutrition\")\n",
    "    netto = div.find(\"div\",class_=\"title\").get_text()\n",
    "    netto = re.search(\"(?<=\\()(.*?)(?=\\))\",netto).group()\n",
    "    table = div.find(\"table\")\n",
    "    for tag in table.find_all(\"tr\"):\n",
    "        if \"kcal\" in tag.text:\n",
    "            cal = int(tag.find_all(\"td\")[-1].get_text())\n",
    "    if cal != 0:\n",
    "        calories = f\"{netto} = {cal}\"\n",
    "        return calories\n",
    "    else:\n",
    "        return None"
   ]
  },
  {
   "cell_type": "code",
   "execution_count": 25,
   "id": "53d5b447-3d58-438e-8aea-3286afef512a",
   "metadata": {},
   "outputs": [],
   "source": [
    "url = \"https://www.spar.nl/smaakt-3305554/\"\n",
    "page = render_html(url)"
   ]
  },
  {
   "cell_type": "code",
   "execution_count": null,
   "id": "985dd769-894b-4e78-a00f-6bbf79bbff6c",
   "metadata": {},
   "outputs": [],
   "source": [
    "# from pprint import pprint\n",
    "\n",
    "# for script in page.find_all(\"script\",{\"type\":\"application/ld+json\"}):\n",
    "#     product = json.loads(script.get_text())\n",
    "#     type_ = product['@type']\n",
    "#     if type_ == \"Product\":\n",
    "#         product_data['code'] = product['gtin13']\n",
    "#         product_data['image_url'] = product['image']\n",
    "#         product_data['small_image_url'] = product['image']\n",
    "#         product_data['product_name'] = product['name']\n",
    "#         product_data['brand'] = product['brand']\n",
    "#     elif type_ == \"BreadcrumbList\":\n",
    "#         categories = []\n",
    "#         for item in product['itemListElement']:\n",
    "#             categories.append(item['item']['name'])\n",
    "#         product_data['categories'] = categories"
   ]
  },
  {
   "cell_type": "code",
   "execution_count": 63,
   "id": "5dc90e2e-6ca9-45ad-a9e3-fab2ca8f97f3",
   "metadata": {},
   "outputs": [
    {
     "data": {
      "text/plain": [
       "{'code': '8719153022389',\n",
       " 'sources': 'src',\n",
       " 'image_url': 'https://media.spar.nl/productdetail/smaakt-200-Gram-3305554-138062.jpg',\n",
       " 'small_image_url': 'https://media.spar.nl/productdetail/smaakt-200-Gram-3305554-138062.jpg',\n",
       " 'product_name': 'Smaakt',\n",
       " 'brand': 'Smaakt',\n",
       " 'nutriscore': None,\n",
       " 'categories': ['ontbijt, beleg, bakken, granen',\n",
       "  'ontbijtgranen',\n",
       "  'ontbijtverrijkers',\n",
       "  'Smaakt'],\n",
       " 'ingredients_text': \"TARWEzemelen*. *=biologisch Kan sporen bevatten van andere glutenbevattende granen, pinda's, selderij, sesamzaad.\",\n",
       " 'calories': None,\n",
       " 'it_has_nutriscore': False}"
      ]
     },
     "execution_count": 63,
     "metadata": {},
     "output_type": "execute_result"
    }
   ],
   "source": [
    "product_data = {\n",
    "    \"code\" : None,\n",
    "    \"sources\" : \"src\",\n",
    "    \"image_url\" : None,\n",
    "    \"small_image_url\" : None,\n",
    "    \"product_name\" : None,\n",
    "    \"brand\" : None,\n",
    "    \"nutriscore\" : None,\n",
    "    \"categories\" : None,\n",
    "    \"ingredients_text\" : None,\n",
    "    \"calories\" : None,\n",
    "    \"it_has_nutriscore\": None\n",
    "}\n",
    "\n",
    "# find product data\n",
    "for script in page.find_all(\"script\",{\"type\":\"application/ld+json\"}):\n",
    "    product = json.loads(script.get_text())\n",
    "    type_ = product['@type']\n",
    "    if type_ == \"Product\":\n",
    "        product_data['code'] = product['gtin13']\n",
    "        product_data['image_url'] = product['image']\n",
    "        product_data['small_image_url'] = product['image']\n",
    "        product_data['product_name'] = product['name']\n",
    "        product_data['brand'] = product['brand']\n",
    "    elif type_ == \"BreadcrumbList\":\n",
    "        categories = []\n",
    "        for item in product['itemListElement']:\n",
    "            categories.append(item['item']['name'])\n",
    "        product_data['categories'] = categories\n",
    "\n",
    "# find product calories\n",
    "try: calories = find_calories(page)\n",
    "except: calories = None\n",
    "\n",
    "# find product ingredients\n",
    "try: ingredients = page.find(\"div\",class_=\"c-offer__ingredients-body\").get_text().strip()\n",
    "except: ingredients = None\n",
    "\n",
    "html = str(page)\n",
    "if \"nutriscore\" in html:\n",
    "    it_has_nutriscore = True\n",
    "else:\n",
    "    it_has_nutriscore = False\n",
    "\n",
    "# assign all the retrive data\n",
    "product_data['calories'] = calories\n",
    "product_data['ingredients_text'] = ingredients\n",
    "product_data['it_has_nutriscore'] = it_has_nutriscore\n",
    "        \n",
    "product_data"
   ]
  },
  {
   "cell_type": "code",
   "execution_count": null,
   "id": "ece0c58e-975d-4fa4-9d4e-f106cd94ebf8",
   "metadata": {},
   "outputs": [],
   "source": []
  },
  {
   "cell_type": "code",
   "execution_count": null,
   "id": "d480a3a8-3ab7-47dc-bb9e-568d8bca9028",
   "metadata": {},
   "outputs": [],
   "source": [
    "# import random, json\n",
    "\n",
    "# random.choice(json.load(open(\"./urls/product_urls.json\")))"
   ]
  }
 ],
 "metadata": {
  "kernelspec": {
   "display_name": "Python 3 (ipykernel)",
   "language": "python",
   "name": "python3"
  },
  "language_info": {
   "codemirror_mode": {
    "name": "ipython",
    "version": 3
   },
   "file_extension": ".py",
   "mimetype": "text/x-python",
   "name": "python",
   "nbconvert_exporter": "python",
   "pygments_lexer": "ipython3",
   "version": "3.9.10"
  }
 },
 "nbformat": 4,
 "nbformat_minor": 5
}
