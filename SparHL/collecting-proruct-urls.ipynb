{
 "cells": [
  {
   "cell_type": "code",
   "execution_count": 1,
   "id": "concrete-doctor",
   "metadata": {},
   "outputs": [],
   "source": [
    "import requests\n",
    "from bs4 import BeautifulSoup\n",
    "from math import ceil, nan\n",
    "import json, re, os\n",
    "\n",
    "headers = {\"user-agent\":\"Mozilla/5.0 (Windows NT 10.0; Win64; x64) AppleWebKit/537.36 (KHTML, like Gecko) Chrome/98.0.4758.82 Safari/537.36\"}\n",
    "\n",
    "def render_html(url):\n",
    "    req = requests.get(url,headers=headers)\n",
    "    page = BeautifulSoup(req.text,\"html.parser\")\n",
    "    return page\n",
    "\n",
    "def get_product_urls(page):\n",
    "    urls = []\n",
    "    ref = \"https://www.spar.nl\"\n",
    "    for product in page.find_all(\"div\",class_=\"c-product-tile__image\"):\n",
    "        a_tag = product.find(\"a\")\n",
    "        try:\n",
    "            link = a_tag['href']\n",
    "            if ref not in link:\n",
    "                link = ref+link\n",
    "            urls.append(link)\n",
    "        except: pass\n",
    "    return urls"
   ]
  },
  {
   "cell_type": "code",
   "execution_count": 2,
   "id": "incorporated-internet",
   "metadata": {},
   "outputs": [],
   "source": [
    "urls = [\n",
    "    \"https://www.spar.nl/boodschappen/fruit-groente-aardappels/\",\n",
    "    \"https://www.spar.nl/boodschappen/bakkerij/\",\n",
    "    \"https://www.spar.nl/boodschappen/kaas-vleeswaren-delicatessen/\",\n",
    "    \"https://www.spar.nl/boodschappen/vlees-kip-vis-vega/\",\n",
    "    \"https://www.spar.nl/boodschappen/zuivel-eieren/\",\n",
    "    \"https://www.spar.nl/boodschappen/verse-kant-en-klaar-maaltijden/\",\n",
    "    \"https://www.spar.nl/boodschappen/internationale-keuken/\",\n",
    "    \"https://www.spar.nl/boodschappen/soepen-conserven-smaakmakers/\",\n",
    "    \"https://www.spar.nl/boodschappen/snoep-koek-chips/\",\n",
    "    \"https://www.spar.nl/boodschappen/ontbijt-beleg-bakken-granen/\",\n",
    "    \"https://www.spar.nl/boodschappen/frisdrank-koffie-thee-sappen/\",\n",
    "    \"https://www.spar.nl/boodschappen/wijn-bier-aperitieven/\",\n",
    "    \"https://www.spar.nl/boodschappen/diepvries/\",\n",
    "    \"https://www.spar.nl/boodschappen/drogisterij/\",\n",
    "    \"https://www.spar.nl/boodschappen/eet-smakelijk-maaltijdservice/\"\n",
    "]"
   ]
  },
  {
   "cell_type": "code",
   "execution_count": 3,
   "id": "loving-judgment",
   "metadata": {},
   "outputs": [],
   "source": [
    "# page = render_html(\"https://www.spar.nl/boodschappen/snoep-koek-chips/?p=30\")"
   ]
  },
  {
   "cell_type": "code",
   "execution_count": 4,
   "id": "tutorial-davis",
   "metadata": {},
   "outputs": [],
   "source": [
    "# ref = \"https://www.spar.nl\"\n",
    "# for product in page.find_all(\"div\",class_=\"c-product-tile__image\"):\n",
    "#     a_tag = product.find(\"a\")\n",
    "#     try:\n",
    "#         link = a_tag['href']\n",
    "#         if ref not in link:\n",
    "#             link = ref+link\n",
    "#         print(link)\n",
    "#     except: pass"
   ]
  },
  {
   "cell_type": "code",
   "execution_count": 5,
   "id": "engaged-distributor",
   "metadata": {},
   "outputs": [],
   "source": [
    "# for j in range(0,len(urls)):\n",
    "#     url = urls[j]\n",
    "#     name = url.split(\"/\")[-2]\n",
    "#     i = 1\n",
    "#     #print(url,end=\"\\nPage: \")\n",
    "#     while True:\n",
    "#         new_url = url + f\"?p={i}\"\n",
    "#         #print(i,end=\",\")\n",
    "#         try:\n",
    "#             print(new_url)\n",
    "#             page = render_html(new_url)\n",
    "#             product_urls = get_product_urls(page)\n",
    "#         except Exception as E:\n",
    "#             print(\"\\b. end.\")\n",
    "#             print(E)\n",
    "#             break\n",
    "#         i += 1\n",
    "#     json.dump(product_urls,open(\"./urls/\"+name+\".json\",\"w\"),indent=4)\n",
    "#     print(\"\\b. end.\")\n",
    "# print(\"done\")"
   ]
  },
  {
   "cell_type": "code",
   "execution_count": 6,
   "id": "committed-means",
   "metadata": {},
   "outputs": [],
   "source": [
    "url = \"https://www.spar.nl/boodschappen/fruit-groente-aardappels/?p=\"\n",
    "page = render_html(url)"
   ]
  },
  {
   "cell_type": "code",
   "execution_count": 14,
   "id": "consecutive-playlist",
   "metadata": {},
   "outputs": [
    {
     "name": "stdout",
     "output_type": "stream",
     "text": [
      "https://www.spar.nl/boodschappen/eet-smakelijk-maaltijdservice/\n",
      "Page: 1,2,3,4,5,6. end.\n",
      "done\n"
     ]
    }
   ],
   "source": [
    "for url in urls[-1:]:\n",
    "    i = 1\n",
    "    print(url,end=\"\\nPage: \")\n",
    "    name = url.split(\"/\")[-2]\n",
    "    product_urls = []\n",
    "    while True:\n",
    "        new_url = url + f\"/?p={i}\"\n",
    "        page = render_html(new_url)\n",
    "        p = page.find(\"nav\",class_=\"c-pagination\").find_all(\"a\")[1]\n",
    "        p = p.attrs['class'][-1]\n",
    "        print(i,end=\",\")\n",
    "        if p != \"is-disabled\":\n",
    "            new_product_urls = get_product_urls(page)\n",
    "            product_urls.extend(new_product_urls)\n",
    "            i += 1\n",
    "        else:\n",
    "            json.dump(product_urls,open(\"./urls/\"+name+\".json\",\"w\"),indent=4)\n",
    "            print(\"\\b. end.\")\n",
    "            break\n",
    "print(\"done\")"
   ]
  }
 ],
 "metadata": {
  "kernelspec": {
   "display_name": "Python 3",
   "language": "python",
   "name": "python3"
  },
  "language_info": {
   "codemirror_mode": {
    "name": "ipython",
    "version": 3
   },
   "file_extension": ".py",
   "mimetype": "text/x-python",
   "name": "python",
   "nbconvert_exporter": "python",
   "pygments_lexer": "ipython3",
   "version": "3.8.7"
  }
 },
 "nbformat": 4,
 "nbformat_minor": 5
}
