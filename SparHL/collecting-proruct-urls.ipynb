{
 "cells": [
  {
   "cell_type": "code",
   "execution_count": 4,
   "id": "infectious-packing",
   "metadata": {},
   "outputs": [],
   "source": [
    "import requests\n",
    "from bs4 import BeautifulSoup\n",
    "from math import ceil, nan\n",
    "import json, re, os\n",
    "\n",
    "headers = {\"user-agent\":\"Mozilla/5.0 (Windows NT 10.0; Win64; x64) AppleWebKit/537.36 (KHTML, like Gecko) Chrome/98.0.4758.82 Safari/537.36\"}\n",
    "\n",
    "def render_html(url):\n",
    "    req = requests.get(url,headers=headers)\n",
    "    page = BeautifulSoup(req.text,\"html.parser\")\n",
    "    return page\n",
    "\n",
    "def get_product_urls(page):\n",
    "    urls = []\n",
    "    ref = \"https://www.spar.nl\"\n",
    "    for product in page.find_all(\"div\",class_=\"c-product-tile__image\"):\n",
    "        a_tag = product.find(\"a\")\n",
    "        try:\n",
    "            link = a_tag['href']\n",
    "            if ref not in link:\n",
    "                link = ref+link\n",
    "            urls.append(link)\n",
    "        except: pass\n",
    "    return urls"
   ]
  },
  {
   "cell_type": "code",
   "execution_count": 5,
   "id": "residential-sunglasses",
   "metadata": {},
   "outputs": [],
   "source": [
    "# url = \"https://www.spar.nl/\"\n",
    "# page = render_html(url)"
   ]
  },
  {
   "cell_type": "code",
   "execution_count": 6,
   "id": "regular-colombia",
   "metadata": {},
   "outputs": [],
   "source": [
    "urls = [\n",
    "    \"https://www.spar.nl/boodschappen/fruit-groente-aardappels/\",\n",
    "    \"https://www.spar.nl/boodschappen/bakkerij/\",\n",
    "    \"https://www.spar.nl/boodschappen/kaas-vleeswaren-delicatessen/\",\n",
    "    \"https://www.spar.nl/boodschappen/vlees-kip-vis-vega/\",\n",
    "    \"https://www.spar.nl/boodschappen/zuivel-eieren/\",\n",
    "    \"https://www.spar.nl/boodschappen/verse-kant-en-klaar-maaltijden/\",\n",
    "    \"https://www.spar.nl/boodschappen/internationale-keuken/\",\n",
    "    \"https://www.spar.nl/boodschappen/soepen-conserven-smaakmakers/\",\n",
    "    \"https://www.spar.nl/boodschappen/snoep-koek-chips/\",\n",
    "    \"https://www.spar.nl/boodschappen/ontbijt-beleg-bakken-granen/\",\n",
    "    \"https://www.spar.nl/boodschappen/frisdrank-koffie-thee-sappen/\",\n",
    "    \"https://www.spar.nl/boodschappen/wijn-bier-aperitieven/\",\n",
    "    \"https://www.spar.nl/boodschappen/diepvries/\",\n",
    "    \"https://www.spar.nl/boodschappen/drogisterij/\",\n",
    "    \"https://www.spar.nl/boodschappen/eet-smakelijk-maaltijdservice/\"\n",
    "]"
   ]
  },
  {
   "cell_type": "code",
   "execution_count": null,
   "id": "alternate-policy",
   "metadata": {},
   "outputs": [],
   "source": [
    "# page = render_html(\"https://www.spar.nl/boodschappen/snoep-koek-chips/?p=30\")"
   ]
  },
  {
   "cell_type": "code",
   "execution_count": null,
   "id": "increased-saying",
   "metadata": {},
   "outputs": [],
   "source": [
    "# ref = \"https://www.spar.nl\"\n",
    "# for product in page.find_all(\"div\",class_=\"c-product-tile__image\"):\n",
    "#     a_tag = product.find(\"a\")\n",
    "#     try:\n",
    "#         link = a_tag['href']\n",
    "#         if ref not in link:\n",
    "#             link = ref+link\n",
    "#         print(link)\n",
    "#     except: pass"
   ]
  },
  {
   "cell_type": "code",
   "execution_count": null,
   "id": "multiple-muslim",
   "metadata": {},
   "outputs": [
    {
     "name": "stdout",
     "output_type": "stream",
     "text": [
      "https://www.spar.nl/boodschappen/fruit-groente-aardappels/\n",
      "Page: 1,2,3,4,5,6,7,8,9,10,"
     ]
    }
   ],
   "source": [
    "for url in urls:\n",
    "    print(url,end=\"\\nPage: \")\n",
    "    name = url.split(\"/\")[-2]\n",
    "    i = 1\n",
    "    while True:\n",
    "        new_url = url + f\"?p={i}\"\n",
    "        print(i,end=\",\")\n",
    "        try:\n",
    "            page = render_html(new_url)\n",
    "            product_urls = get_product_urls(page)\n",
    "        except:\n",
    "            break\n",
    "        i += 1\n",
    "    json.dump(product_urls,open(name+\".json\"))\n",
    "    print(\"\\b. end.\")\n",
    "print(\"done\")"
   ]
  }
 ],
 "metadata": {
  "kernelspec": {
   "display_name": "Python 3",
   "language": "python",
   "name": "python3"
  },
  "language_info": {
   "codemirror_mode": {
    "name": "ipython",
    "version": 3
   },
   "file_extension": ".py",
   "mimetype": "text/x-python",
   "name": "python",
   "nbconvert_exporter": "python",
   "pygments_lexer": "ipython3",
   "version": "3.8.7"
  }
 },
 "nbformat": 4,
 "nbformat_minor": 5
}
