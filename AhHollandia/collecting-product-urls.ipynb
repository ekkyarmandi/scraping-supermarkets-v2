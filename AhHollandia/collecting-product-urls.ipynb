{
 "cells": [
  {
   "cell_type": "code",
   "execution_count": 30,
   "id": "3d991991-21b3-4676-96b4-ea47dde5c461",
   "metadata": {},
   "outputs": [],
   "source": [
    "import requests\n",
    "from bs4 import BeautifulSoup\n",
    "from math import ceil, nan\n",
    "import json, re, os\n",
    "\n",
    "headers = {\"user-agent\":\"Mozilla/5.0 (Windows NT 10.0; Win64; x64) AppleWebKit/537.36 (KHTML, like Gecko) Chrome/98.0.4758.82 Safari/537.36\"}\n",
    "\n",
    "def render_html(url):\n",
    "    req = requests.get(url,headers=headers)\n",
    "    page = BeautifulSoup(req.text,\"html.parser\")\n",
    "    return page\n",
    "\n",
    "def get_max_page(page):\n",
    "    total_results = page.find(\"div\",class_=re.compile(\"load-more_root*\")).get_text()\n",
    "    total_results = [int(d) for d in re.findall(\"\\d+\",total_results)]\n",
    "    max_page = ceil(total_results[-1]/total_results[0])\n",
    "    return max_page\n",
    "\n",
    "def get_product_urls(url,include=None):\n",
    "    links = []\n",
    "    ref = \"https://www.ah.nl\"\n",
    "    page = render_html(url)\n",
    "    for a in page.find_all(\"a\"):\n",
    "        try:\n",
    "            link = a['href']\n",
    "            if \"/product/\" in link:\n",
    "                if ref not in link:\n",
    "                    link = ref + link\n",
    "                links.append(link)\n",
    "        except: pass\n",
    "    if include == \"max_page\":\n",
    "        max_page = get_max_page(page)\n",
    "        return links, max_page\n",
    "    else:\n",
    "        return links"
   ]
  },
  {
   "cell_type": "code",
   "execution_count": 18,
   "id": "52e9b340-7f83-4650-b81a-72d6b7d1c0ba",
   "metadata": {},
   "outputs": [],
   "source": [
    "urls = [\n",
    "    \"https://www.ah.nl/producten/aardappel-groente-fruit\"\n",
    "    \"https://www.ah.nl/producten/salades-pizza-maaltijden\",\n",
    "    \"https://www.ah.nl/producten/vlees-kip-vis-vega\",\n",
    "    \"https://www.ah.nl/producten/kaas-vleeswaren-tapas\",\n",
    "    \"https://www.ah.nl/producten/zuivel-plantaardig-en-eieren\",\n",
    "    \"https://www.ah.nl/producten/bakkerij-en-banket\",\n",
    "    \"https://www.ah.nl/producten/ontbijtgranen-broodbeleg-tussendoor\",\n",
    "    \"https://www.ah.nl/producten/frisdrank-sappen-koffie-thee\",\n",
    "    \"https://www.ah.nl/producten/wijn-en-bubbels\",\n",
    "    \"https://www.ah.nl/producten/bier-en-aperitieven\",\n",
    "    \"https://www.ah.nl/producten/pasta-rijst-en-wereldkeuken\",\n",
    "    \"https://www.ah.nl/producten/soepen-sauzen-kruiden-olie\",\n",
    "    \"https://www.ah.nl/producten/snoep-koek-chips-en-chocolade\",\n",
    "    \"https://www.ah.nl/producten/diepvries\",\n",
    "    \"https://www.ah.nl/producten/baby-verzorging-en-hygiene\",\n",
    "    \"https://www.ah.nl/producten/bewuste-voeding\"\n",
    "]"
   ]
  },
  {
   "cell_type": "code",
   "execution_count": 19,
   "id": "cfd8d08d-99e2-4db7-8923-ae3d8ff19cba",
   "metadata": {},
   "outputs": [],
   "source": [
    "page = render_html(urls[0])"
   ]
  },
  {
   "cell_type": "code",
   "execution_count": null,
   "id": "a3543aec-becb-4fea-8e5e-a6b5bc42d940",
   "metadata": {},
   "outputs": [
    {
     "name": "stdout",
     "output_type": "stream",
     "text": [
      "https://www.ah.nl/producten/aardappel-groente-fruithttps://www.ah.nl/producten/salades-pizza-maaltijden 1,2,3,4,5,6,7,8,9,10,11,12,13,14,15,16. end.\n",
      "https://www.ah.nl/producten/vlees-kip-vis-vega 1,2,3,4,5,6,7,8,9,10,11,12,13,14,15,16,17,18,19,20,21,22,23,24,25,26. end.\n",
      "https://www.ah.nl/producten/kaas-vleeswaren-tapas 1,2,3,4,5,6,7,8,9,10,11,12,13,14,15,16,17,18,19,20,21,22,23,24,25,26,27,28,29,30,31,32,33,34,35,36,37,38,39. end.\n",
      "https://www.ah.nl/producten/zuivel-plantaardig-en-eieren 1,2,3,4,5,6,7,8,9,10,11,12,13,14,15,16,17,18,19,20,21,22,23,24,25,26,27,28,29. end.\n",
      "https://www.ah.nl/producten/bakkerij-en-banket 1,2,3,4,5,6,7,8,9,10,11,12,13,14,15,16,17,18,19,20,21,22,23,24,25. end.\n",
      "https://www.ah.nl/producten/ontbijtgranen-broodbeleg-tussendoor 1,2,3,4,5,6,7,8,9,10,11,12,13,14,15,16,17,18,19,20,21,22,23,24,25,26,27,28,29,30,31,32,33,34,35,36,37,38,39,40,41,42,43,44,45,46,47,48,49,50,51,52,53,54,55,56. end.\n",
      "https://www.ah.nl/producten/frisdrank-sappen-koffie-thee 1,2,3,4,5,6,7,8,9,10,11,12,13,14,15,"
     ]
    }
   ],
   "source": [
    "for url in urls:\n",
    "    print(url,end=\" \")\n",
    "    product_urls, max_page = get_product_urls(url,include=\"max_page\")\n",
    "    for i in range(1,max_page):\n",
    "        print(i,end=\",\")\n",
    "        new_url = url + f\"?page={i}\"\n",
    "        product_urls.extend(get_product_urls(new_url))\n",
    "    print(\"\\b. end.\")\n",
    "json.dump(product_urls,open(\"./urls/product_urls.json\",\"w\"))"
   ]
  },
  {
   "cell_type": "code",
   "execution_count": null,
   "id": "55eb643e-3a7a-41c5-b968-d04469adad65",
   "metadata": {},
   "outputs": [],
   "source": [
    "product_urls = list(dict.fromkeys(product_urls))\n",
    "json.dump(product_urls,open(\"./urls/product_urls.json\",\"w\"))"
   ]
  }
 ],
 "metadata": {
  "kernelspec": {
   "display_name": "Python 3 (ipykernel)",
   "language": "python",
   "name": "python3"
  },
  "language_info": {
   "codemirror_mode": {
    "name": "ipython",
    "version": 3
   },
   "file_extension": ".py",
   "mimetype": "text/x-python",
   "name": "python",
   "nbconvert_exporter": "python",
   "pygments_lexer": "ipython3",
   "version": "3.9.10"
  }
 },
 "nbformat": 4,
 "nbformat_minor": 5
}
