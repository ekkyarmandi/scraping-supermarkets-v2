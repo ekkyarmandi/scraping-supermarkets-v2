{
 "cells": [
  {
   "cell_type": "code",
   "execution_count": 2,
   "id": "3bcb9830-7810-4ee6-968b-117426a17b4d",
   "metadata": {},
   "outputs": [],
   "source": [
    "import requests\n",
    "from bs4 import BeautifulSoup\n",
    "from math import ceil, nan\n",
    "import json, re, os\n",
    "\n",
    "headers = {\"user-agent\":\"Mozilla/5.0 (Windows NT 10.0; Win64; x64) AppleWebKit/537.36 (KHTML, like Gecko) Chrome/98.0.4758.82 Safari/537.36\"}\n",
    "\n",
    "def render_html(url):\n",
    "    req = requests.get(url,headers=headers)\n",
    "    page = BeautifulSoup(req.text,\"html.parser\")\n",
    "    return page\n",
    "\n",
    "def get_max(page):\n",
    "    total = page.find(\"span\",class_=\"page-content-header__results\").get_text()\n",
    "    total = int(\"\".join(re.findall(\"\\d+\",total)))\n",
    "    return ceil(total/24)\n",
    "\n",
    "def get_product_urls(url,include=None):\n",
    "    page = render_html(url)\n",
    "    urls = []\n",
    "    container = page.find(\"div\",class_=\"jum-card-grid\")\n",
    "    ref = \"https://www.jumbo.com\"\n",
    "    for a in container.find_all(\"a\",class_=\"title-link\"):\n",
    "        link = a['href']\n",
    "        if ref not in link:\n",
    "            link = ref + link\n",
    "        urls.append(link)\n",
    "    if include == \"max_page\":\n",
    "        max_page = get_max(page)\n",
    "        return urls, max_page\n",
    "    else:\n",
    "        return urls"
   ]
  },
  {
   "cell_type": "code",
   "execution_count": 3,
   "id": "53d5b447-3d58-438e-8aea-3286afef512a",
   "metadata": {},
   "outputs": [],
   "source": [
    "url = \"https://www.jumbo.com/producten/koek,-gebak,-snoep,-chips/\"\n",
    "page = render_html(url)"
   ]
  },
  {
   "cell_type": "code",
   "execution_count": 4,
   "id": "1a96e026-8068-4c10-b3f6-f4f1441fc825",
   "metadata": {},
   "outputs": [],
   "source": [
    "urls = [\n",
    "    # \"https://www.jumbo.com/producten/aardappel,-rijst,-pasta/\",\n",
    "    # \"https://www.jumbo.com/producten/vlees,-vis,-vegetarisch/\",\n",
    "    # \"https://www.jumbo.com/producten/groente/\",\n",
    "    # \"https://www.jumbo.com/producten/fruit/\",\n",
    "    # \"https://www.jumbo.com/producten/koken,-soepen,-maaltijden/\",\n",
    "    # \"https://www.jumbo.com/producten/diepvries/\",\n",
    "    # \"https://www.jumbo.com/producten/brood,-cereals,-beleg/\",\n",
    "    # \"https://www.jumbo.com/producten/zuivel,-eieren,-boter/\",\n",
    "    \"https://www.jumbo.com/producten/koek,-gebak,-snoep,-chips/\",\n",
    "    \"https://www.jumbo.com/producten/fris,-sap,-koffie,-thee/\",\n",
    "    \"https://www.jumbo.com/producten/wijn,-bier,-sterke-drank/\",\n",
    "]"
   ]
  },
  {
   "cell_type": "code",
   "execution_count": 5,
   "id": "55da9660-71ce-4c0a-8ec5-4f9ed8a74e7e",
   "metadata": {},
   "outputs": [],
   "source": [
    "# container = page.find(\"div\",class_=\"jum-card-grid\")\n",
    "# ref = \"https://www.jumbo.com\"\n",
    "# for a in container.find_all(\"a\",class_=\"title-link\"):\n",
    "#     link = a['href']\n",
    "#     if ref not in link:\n",
    "#         link = ref + link"
   ]
  },
  {
   "cell_type": "code",
   "execution_count": 6,
   "id": "1275c094-579f-4c4e-b518-574c96d9b721",
   "metadata": {},
   "outputs": [],
   "source": [
    "# product_urls, max_page = get_product_urls(url,include=\"max_page\")\n",
    "# for i in range(1,max_page):\n",
    "#     new_url = url + f\"?offSet={i*24}&pageSize=24\"\n",
    "#     new_product_urls = get_product_urls(new_url)\n",
    "#     product_urls.extend(new_product_urls)"
   ]
  },
  {
   "cell_type": "code",
   "execution_count": 7,
   "id": "2f55905a-c78e-436e-9bfa-e76749750222",
   "metadata": {},
   "outputs": [
    {
     "name": "stdout",
     "output_type": "stream",
     "text": [
      "diepvries: 2,3,4,5,6,7,8,9,10,11,12,13,14,15,16,17,18,19,20,21,22,23,24,25,26,27,28,29,30,31,32,33,34,35,36,37,38,39. done.\n",
      "brood-cereals-beleg: 2,3,4,5,6,7,8,9,10,11,12,13,14,15,16,17,18,19,20,21,22,23,24,25,26,27,28,29,30,31,32,33,34,35,36,37,38,39,40,41,42,43,44,45,46,47,48,49,50,51,52,53,54,55,56,57,58,59,60,61,62,63,64,65,66,67,68,69,70,71,72,73,74,75,76,77,78. done.\n",
      "zuivel-eieren-boter: 2,3,4,5,6,7,8,9,10,11,12,13,14,15,16,17,18,19,20,21,22,23,24,25,26,27,28,29,30,31,32,33,34,35,36,37,38,39,40,41,42,43,44,45,46,47,48,49,50,51,52,53,54,55,56,57,58,59,60,61,62,63,64,65,66,67,68,69,70,71. done.\n",
      "koek-gebak-snoep-chips: 2,3,4,5,6,7,8,9,10,11,12,13,14,15,16,17,18,19,20,21,22,23,24,25,26,27,28,29,30,31,32,33,34,35,36,37,38,39,40,41,42,43,44,45,46,47,48,49,50,51,52,53,54,55,56,57,58,59,60,61,62,63,64,65,66,67,68,69,70,71,72,73,74,75,76,77,78,79,80,81,82,83,84,85,86,87,88,89,90,91,92,93,94,95,96,97,98,99,100,101,102,103,104,105,106,107,108,109,110,111,112,113,114,115,116,117. done.\n",
      "fris-sap-koffie-thee: 2,3,4,5,6,7,8,9,10,11,12,13,14,15,16,17,18,19,20,21,22,23,24,25,26,27,28,29,30,31,32,33,34,35,36,37,38,39,40,41,42,43,44,45,46,47,48,49,50,51,52,53,54,55,56,57,58,59,60,61,62,63,64,65,66,67,68,69,70,71,72,73,74,75,76,77,78,79,80,81,82,83,84,85,86,87. done.\n",
      "wijn-bier-sterke-drank: 2,3,4,5,6,7,8,9,10,11,12,13,14,15,16,17,18,19,20,21,22,23,24,25,26,27,28,29,30,31,32,33,34,35,36,37,38,39,40,41,42,43,44,45,46,47,48,49,50,51,52,53,54,55,56,57. done.\n"
     ]
    }
   ],
   "source": [
    "for url in urls:\n",
    "    name = url.split(\"/\")[-2].replace(\",\",\"\")\n",
    "    filename = \"./urls/\" + name + \".json\"\n",
    "    product_urls, max_page = get_product_urls(url,include=\"max_page\")\n",
    "    print(name,end=\": \")\n",
    "    for i in range(1,max_page):\n",
    "        print(i+1,end=\",\")\n",
    "        new_url = url + f\"?offSet={i*24}&pageSize=24\"\n",
    "        new_product_urls = get_product_urls(new_url)\n",
    "        product_urls.extend(new_product_urls)\n",
    "    json.dump(product_urls,open(filename,\"w\"),indent=4)\n",
    "    print(\"\\b. done.\")"
   ]
  },
  {
   "cell_type": "code",
   "execution_count": 8,
   "id": "f16dc289",
   "metadata": {},
   "outputs": [
    {
     "name": "stdout",
     "output_type": "stream",
     "text": [
      "done. total urls 15588.\n"
     ]
    }
   ],
   "source": [
    "root = \"./urls/\"\n",
    "data = []\n",
    "for file in os.listdir(root):\n",
    "    if file.endswith(\"json\"):\n",
    "        data.extend(json.load(open(root+file)))\n",
    "data = list(dict.fromkeys(data))\n",
    "json.dump(data,open(root+\"product_urls.json\",\"w\"),indent=4)\n",
    "print(f\"done. total urls {len(data)}.\")"
   ]
  }
 ],
 "metadata": {
  "kernelspec": {
   "display_name": "Python 3 (ipykernel)",
   "language": "python",
   "name": "python3"
  },
  "language_info": {
   "codemirror_mode": {
    "name": "ipython",
    "version": 3
   },
   "file_extension": ".py",
   "mimetype": "text/x-python",
   "name": "python",
   "nbconvert_exporter": "python",
   "pygments_lexer": "ipython3",
   "version": "3.9.10"
  }
 },
 "nbformat": 4,
 "nbformat_minor": 5
}
