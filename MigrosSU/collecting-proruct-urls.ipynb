{
 "cells": [
  {
   "cell_type": "code",
   "execution_count": 1,
   "id": "3bcb9830-7810-4ee6-968b-117426a17b4d",
   "metadata": {},
   "outputs": [],
   "source": [
    "import requests\n",
    "from bs4 import BeautifulSoup\n",
    "from math import ceil, nan\n",
    "import json, re, os\n",
    "import time\n",
    "\n",
    "headers = {\"user-agent\":\"Mozilla/5.0 (Windows NT 10.0; Win64; x64) AppleWebKit/537.36 (KHTML, like Gecko) Chrome/98.0.4758.82 Safari/537.36\"}\n",
    "\n",
    "def get_max(page):\n",
    "    for li in page.find(\"div\",{\"data-testid\":\"msrc-articles--pagination\"}).find_all(\"li\"):\n",
    "        try: d = int(li.get_text())\n",
    "        except: pass\n",
    "    return d"
   ]
  },
  {
   "cell_type": "code",
   "execution_count": 2,
   "id": "53d5b447-3d58-438e-8aea-3286afef512a",
   "metadata": {},
   "outputs": [],
   "source": [
    "# url = \"https://produits.migros.ch/assortiment/supermarche\"\n",
    "# page = render_html(url)"
   ]
  },
  {
   "cell_type": "code",
   "execution_count": 3,
   "id": "a7ec946c-7b7c-4301-879a-ac39e41d088e",
   "metadata": {},
   "outputs": [],
   "source": [
    "from selenium.webdriver.common.by import By\n",
    "from selenium.webdriver.support.ui import WebDriverWait\n",
    "from selenium.webdriver.support import expected_conditions as EC\n",
    "from selenium.webdriver import Chrome\n",
    "import chromedriver_binary\n",
    "\n",
    "try:\n",
    "    browser.quit()\n",
    "    browser = Chrome()\n",
    "except:\n",
    "    browser = Chrome()"
   ]
  },
  {
   "cell_type": "code",
   "execution_count": 6,
   "id": "abaa8532-018e-4b4a-9e2a-d2e434f51e2b",
   "metadata": {},
   "outputs": [],
   "source": [
    "url = \"https://produits.migros.ch/assortiment/supermarche/denrees-alimentaires\"\n",
    "browser.get(url)"
   ]
  },
  {
   "cell_type": "code",
   "execution_count": 8,
   "id": "96dc6a17-235c-45c2-a110-7c310c30a7e0",
   "metadata": {},
   "outputs": [
    {
     "data": {
      "text/plain": [
       "226"
      ]
     },
     "execution_count": 8,
     "metadata": {},
     "output_type": "execute_result"
    }
   ],
   "source": [
    "page = BeautifulSoup(browser.page_source,\"html.parser\")\n",
    "max_page = get_max(page)\n",
    "max_page"
   ]
  },
  {
   "cell_type": "code",
   "execution_count": null,
   "id": "429c497a-0ee9-4dbd-bf2e-63cbffefff27",
   "metadata": {},
   "outputs": [],
   "source": [
    "# try:\n",
    "#     xpath = '//*[@id=\"msrc-widget\"]'\n",
    "#     WebDriverWait(browser,10).until(\n",
    "#         EC.presence_of_element_located((By.XPATH,xpath))\n",
    "#     )\n",
    "#     page = BeautifulSoup(browser.page_source,\"html.parser\")\n",
    "#     container = page.find(\"div\",id=\"msrc-widget\")\n",
    "#     product_urls = []\n",
    "#     for a in container.find_all(\"a\"):\n",
    "#         product_urls.append(a['href'])\n",
    "# except: pass"
   ]
  },
  {
   "cell_type": "code",
   "execution_count": 9,
   "id": "9f995e63-c08c-4ac7-841c-24266e435ba2",
   "metadata": {},
   "outputs": [
    {
     "name": "stdout",
     "output_type": "stream",
     "text": [
      "Page: 13(48),15(48),19(48),20(48),21(48),29(48),32(48),36(48),37(48). done.\n"
     ]
    }
   ],
   "source": [
    "print(\"Page:\",end=\" \")\n",
    "for i in range(12,max_page+1):\n",
    "    filename = f\"./urls/{i:03d}.json\"\n",
    "    if not os.path.exists(filename):\n",
    "        print(i,end=\"\")\n",
    "        url = f\"https://produits.migros.ch/assortiment/supermarche/denrees-alimentaires?page={i}\"\n",
    "        browser.get(url)\n",
    "        time.sleep(2)\n",
    "        try:\n",
    "            xpath = '//*[@id=\"msrc-widget\"]'\n",
    "            WebDriverWait(browser,10).until(\n",
    "                EC.visibility_of_element_located((By.XPATH,xpath))\n",
    "            )\n",
    "            page = BeautifulSoup(browser.page_source,\"html.parser\")\n",
    "            container = page.find(\"div\",id=\"msrc-widget\")\n",
    "            product_urls = []\n",
    "            for a in container.find_all(\"a\"):\n",
    "                product_urls.append(a['href'])\n",
    "        except: pass\n",
    "        if len(product_urls) > 0:\n",
    "            json.dump(product_urls,open(filename,\"w\"),indent=4)\n",
    "        print(f\"({len(product_urls)})\",end=\",\")\n",
    "print(\"\\b. done.\")"
   ]
  },
  {
   "cell_type": "code",
   "execution_count": 14,
   "id": "e5dbdb6c-7eec-41ba-9b3d-7a25ec77e6ea",
   "metadata": {},
   "outputs": [],
   "source": [
    "root = \"./urls/\"\n",
    "product_urls = []\n",
    "for file in os.listdir(root):\n",
    "    data = json.load(open(root+file))\n",
    "    product_urls.extend(data)\n",
    "product_urls = list(dict.fromkeys(product_urls))\n",
    "json.dump(product_urls,open(\"./urls/product_urls.json\",\"w\"),indent=4)"
   ]
  }
 ],
 "metadata": {
  "kernelspec": {
   "display_name": "Python 3 (ipykernel)",
   "language": "python",
   "name": "python3"
  },
  "language_info": {
   "codemirror_mode": {
    "name": "ipython",
    "version": 3
   },
   "file_extension": ".py",
   "mimetype": "text/x-python",
   "name": "python",
   "nbconvert_exporter": "python",
   "pygments_lexer": "ipython3",
   "version": "3.9.10"
  }
 },
 "nbformat": 4,
 "nbformat_minor": 5
}
