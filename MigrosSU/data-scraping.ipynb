{
 "cells": [
  {
   "cell_type": "code",
   "execution_count": null,
   "id": "3bcb9830-7810-4ee6-968b-117426a17b4d",
   "metadata": {},
   "outputs": [],
   "source": [
    "import requests\n",
    "from bs4 import BeautifulSoup\n",
    "from math import ceil, nan\n",
    "import json, re, os\n",
    "\n",
    "headers = {\"user-agent\":\"Mozilla/5.0 (Windows NT 10.0; Win64; x64) AppleWebKit/537.36 (KHTML, like Gecko) Chrome/98.0.4758.82 Safari/537.36\"}\n",
    "\n",
    "def render_html(url):\n",
    "    req = requests.get(url,headers=headers)\n",
    "    page = BeautifulSoup(req.text,\"html.parser\")\n",
    "    return page"
   ]
  },
  {
   "cell_type": "code",
   "execution_count": null,
   "id": "53d5b447-3d58-438e-8aea-3286afef512a",
   "metadata": {},
   "outputs": [],
   "source": [
    "url = \"https://produits.migros.ch/poulet-crispy-14kg\"\n",
    "page = render_html(url)"
   ]
  },
  {
   "cell_type": "code",
   "execution_count": null,
   "id": "05bd6b1f-8287-491a-ad70-600e0e6e3286",
   "metadata": {},
   "outputs": [],
   "source": [
    "product = page.find(\"main\",class_=\"section-top-padding\")\n",
    "\n",
    "print(\"-\"*150)\n",
    "print(product['data-track-view'])\n",
    "print(\"-\"*150)\n",
    "print(product)"
   ]
  },
  {
   "cell_type": "code",
   "execution_count": 155,
   "id": "11552836-0f9a-421a-a2fd-65ba9d5b34f5",
   "metadata": {},
   "outputs": [
    {
     "name": "stdout",
     "output_type": "stream",
     "text": [
      "------------------------------------------------------------------------------------------------------------------------------------------------------\n",
      "categories: ['Supermarché', 'Denrées alimentaires', 'Produits surgelés', 'Viande', 'Volaille']\n",
      "------------------------------------------------------------------------------------------------------------------------------------------------------\n",
      "product: {'name': 'Poulet crispy 1.4kg', 'image': 'https://image.migros.ch/original/16deafbf80ee0a9a7688c38069b683dd337824a5/poulet-crispy-14kg.jpg', 'brand': 'Don Pollo'}\n",
      "------------------------------------------------------------------------------------------------------------------------------------------------------\n"
     ]
    }
   ],
   "source": [
    "from pprint import pprint\n",
    "\n",
    "scripts = page.find(\"script\",{\"type\":\"application/ld+json\"})\n",
    "scripts = json.loads(scripts.text)\n",
    "for script in scripts:\n",
    "    type_ = script['@type']\n",
    "    print(\"-\"*150)\n",
    "    if type_ == \"WebPage\":\n",
    "        categories = []\n",
    "        for cat in script['breadcrumb']['itemListElement'][2:-1]:\n",
    "            categories.append(cat['item']['name'])\n",
    "        print(\"categories:\",categories)\n",
    "    else:\n",
    "        product = {\n",
    "            \"name\": script['name'],\n",
    "            \"image\": script['image'],\n",
    "            \"brand\": script['brand']['name']\n",
    "        }\n",
    "        print(\"product:\",product)\n",
    "print(\"-\"*150)"
   ]
  },
  {
   "cell_type": "code",
   "execution_count": 157,
   "id": "e0a8600a-ef5b-44ac-987e-4bfc25d978f1",
   "metadata": {},
   "outputs": [
    {
     "data": {
      "text/plain": [
       "{'principales_caractéristiques': {'procédé_de_production': 'Préfrit, Pané',\n",
       "  'emballage': 'Sac/sachet',\n",
       "  'conseils_pour_la_préparation': 'Rôtir, Cuire au four, Peut être frit'},\n",
       " 'développement_durable': {'production:': '96%',\n",
       "  'transport:': '1%',\n",
       "  'emballage:': '3%'},\n",
       " 'ingrédients_et_allergènes': {'ingrédients': \"viande de poulet 58% [origine: voir champ d'impression spontanée], chapelure (farine fleur de blé, levure, paprika, sel de cuisine), eau, huile de colza, préparation d'épices (amidon de blé [avec sel de cuisine], gluten de blé, farine de blé, stabilisant: diphosphates, extrait de levure [avec sel de cuisine], sucre, épices), panure (farine de blé, amidon de blé, sel de cuisine), sel de cuisine iodé.\",\n",
       "  'déclaration_des_allergènes': 'Peut contenir: céleri.'},\n",
       " 'valeurs_nutritionnelles': '212 kcal / 100 g',\n",
       " 'origine': {'marque_d’identification': 'CH 301',\n",
       "  'mention_de_l’origine': \"Élaboré en Suisse avec de la viande de poulet du Brésil/Thaïlande (l'origine exacte doit être imprimée sur l'emballage en fonction du lot)\"},\n",
       " 'détails_de_l’article': {'désignation_spécifique': \"Préparation à base de viande de poulet reconstituée avec de l'eau, panée, préfrite, à consommer cuite\",\n",
       "  'quantité_nette,_valeur': '1400 g'},\n",
       " 'remarques': {'conseil_de_réfrigération/conservation': 'Surgelé: conserver dans le compartiment congélateur, à -18 °C au max. Ne pas recongeler après décongélation et consommer immédiatement.',\n",
       "  'indications_de_production': 'viande reconstituée surgelé',\n",
       "  'avertissement_et_autres_mentions_obligatoires': 'À consommer bien cuit/rôti.'},\n",
       " \"numéros_d'article\": {'numéro_d´article': ['166060200000'],\n",
       "  'gtin': ['7613312291016',\n",
       "   '7611521035773',\n",
       "   '7613312233719',\n",
       "   '7613269302612']}}"
      ]
     },
     "execution_count": 157,
     "metadata": {},
     "output_type": "execute_result"
    }
   ],
   "source": [
    "def find_details(page):\n",
    "\n",
    "    def find_table(text, split=False):\n",
    "        table = {}\n",
    "        for row in text.find(\"table\").find_all(\"tr\"):\n",
    "            td = row.find_all(\"td\")\n",
    "            key = td[0].get_text().strip().lower().replace(\" \",\"_\")\n",
    "            if split:\n",
    "                table.update({\n",
    "                    key: td[1].get_text().strip().split(\", \")\n",
    "                })\n",
    "            else:\n",
    "                table.update({\n",
    "                    key: td[1].get_text().strip()\n",
    "                })\n",
    "        return table\n",
    "\n",
    "    def find_calories(detail):\n",
    "        table = detail.find(\"table\")\n",
    "        for th in table.find(\"thead\").find_all(\"tr\")[1].find_all(\"th\"):\n",
    "            try:\n",
    "                d = re.findall(\"\\d+\",th.get_text())\n",
    "                if len(d) > 0:\n",
    "                    netto = th.get_text().strip()\n",
    "                    break\n",
    "            except: pass\n",
    "        for tag in table.find_all(\"td\"):\n",
    "            if \"kcal\" in tag.text:\n",
    "                cal = tag.get_text().strip()\n",
    "                cal = re.search(\"\\d+ kcal|\\d+kcal\",cal)\n",
    "                if cal != None:\n",
    "                    cal = cal.group()\n",
    "                    break\n",
    "        return f\"{cal} / {netto}\"\n",
    "\n",
    "    content = {}\n",
    "    for div in page.find(\"div\",class_=\"product-stage\").find_next_siblings(\"div\"):\n",
    "        try:\n",
    "            title = div.find(\"h4\").get_text().strip().lower().replace(\" \",\"_\")\n",
    "            detail = div.find(\"div\",{\"id\":re.compile(\"my-panel-*\"),\"role\":\"tabpanel\"})\n",
    "            if title == \"numéros_d'article\":\n",
    "                detail = find_table(detail,split=True)\n",
    "            elif title == \"valeurs_nutritionnelles\":\n",
    "                detail = find_calories(detail)\n",
    "            else:\n",
    "                detail = find_table(detail)\n",
    "            content.update({title:detail})\n",
    "        except: pass\n",
    "    \n",
    "    return content\n",
    "\n",
    "find_details(page)"
   ]
  },
  {
   "cell_type": "code",
   "execution_count": null,
   "id": "7a2c6c82-2a6d-4896-8074-dd28593a769c",
   "metadata": {},
   "outputs": [],
   "source": [
    "product_data = {\n",
    "    \"code\" : \"\",\n",
    "    \"sources\" : [\"https://www.auchan.fr/auchan-saumon-fume-de-norvege-mini/pr-C1182526\"],\n",
    "    \"image_url\" : \"\",\n",
    "    \"small_image_url\" : \"\",\n",
    "    \"product_name\" : \"\",\n",
    "    \"brand\" : \"\",\n",
    "    \"nutriscore\" : \"\",\n",
    "    \"categories\" : [\"\"],\n",
    "    \"ingredients_text\" : \"\",\n",
    "    \"calories\" : \"\",\n",
    "}"
   ]
  }
 ],
 "metadata": {
  "kernelspec": {
   "display_name": "Python 3 (ipykernel)",
   "language": "python",
   "name": "python3"
  },
  "language_info": {
   "codemirror_mode": {
    "name": "ipython",
    "version": 3
   },
   "file_extension": ".py",
   "mimetype": "text/x-python",
   "name": "python",
   "nbconvert_exporter": "python",
   "pygments_lexer": "ipython3",
   "version": "3.9.10"
  }
 },
 "nbformat": 4,
 "nbformat_minor": 5
}
