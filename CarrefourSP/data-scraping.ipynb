{
 "cells": [
  {
   "cell_type": "code",
   "execution_count": 2,
   "id": "3bcb9830-7810-4ee6-968b-117426a17b4d",
   "metadata": {},
   "outputs": [],
   "source": [
    "import requests\n",
    "from bs4 import BeautifulSoup\n",
    "from math import ceil, nan\n",
    "import json, re, os\n",
    "\n",
    "headers = {\"user-agent\":\"Mozilla/5.0 (Windows NT 10.0; Win64; x64) AppleWebKit/537.36 (KHTML, like Gecko) Chrome/98.0.4758.82 Safari/537.36\"}\n",
    "\n",
    "def render_html(url):\n",
    "    req = requests.get(url,headers=headers)\n",
    "    page = BeautifulSoup(req.text,\"html.parser\")\n",
    "    return page"
   ]
  },
  {
   "cell_type": "code",
   "execution_count": 3,
   "id": "53d5b447-3d58-438e-8aea-3286afef512a",
   "metadata": {},
   "outputs": [],
   "source": [
    "url = \"https://www.carrefour.es/supermercado/berlinas-bombon-donuts-4-ud/R-715505824/p\"\n",
    "page = render_html(url)"
   ]
  },
  {
   "cell_type": "code",
   "execution_count": 60,
   "id": "2785eacc-03b8-4a5d-a216-555d38d1558b",
   "metadata": {},
   "outputs": [
    {
     "name": "stdout",
     "output_type": "stream",
     "text": [
      "Carrefour.es\n",
      "Supermercado\n",
      "Productos Frescos\n",
      "Panadería, Bollería y Pastelería\n",
      "Magdalenas, Dulces y Bollos\n"
     ]
    }
   ],
   "source": []
  },
  {
   "cell_type": "code",
   "execution_count": 62,
   "id": "6bc5efda-58af-470f-b0f2-86a376afb6b7",
   "metadata": {},
   "outputs": [
    {
     "data": {
      "text/plain": [
       "{'code': ['8410022109674', '8410022110472'],\n",
       " 'sources': ['src'],\n",
       " 'image_url': 'https://static.carrefour.es/hd_510x_/img_pim_food/488506_00_1.jpg',\n",
       " 'small_image_url': 'https://static.carrefour.es/hd_510x_/img_pim_food/488506_00_1.jpg',\n",
       " 'product_name': 'berlinas-bombon-donuts-4-ud',\n",
       " 'brand': 'donuts',\n",
       " 'nutriscore': None,\n",
       " 'categories': ['Carrefour.es',\n",
       "  'Supermercado',\n",
       "  'Productos Frescos',\n",
       "  'Panadería, Bollería y Pastelería',\n",
       "  'Magdalenas, Dulces y Bollos'],\n",
       " 'ingredients_text': 'Harina de trigo, grasa vegetal de palma, agua, azúcar, grasa vegetal totalmente hidrogenada de palmiste, cacao desgrasado en polvo (3,8%), levadura, lactosa, jarabe de glucosa y fructosa, huevo líquido pasteurizado, emulgentes (E 471, lecitina de girasol, E 492, E 481, E 472e), sal, dextrosa, gluten de trigo, harina de soja, almidón, leche desnatada en polvo, estabilizantes (E 412, E 341i), conservador (E 200), aromas y agente de tratamiento de la harina (E 300). Puede contener avellana.',\n",
       " 'calories': '472 kcal / 100 g'}"
      ]
     },
     "execution_count": 62,
     "metadata": {},
     "output_type": "execute_result"
    }
   ],
   "source": [
    "def find_ean(page):\n",
    "    for script in page.find_all(\"script\",{\"type\":\"text/javascript\",\"charset\":\"utf-8\"}):\n",
    "        strt = r\"var dataLayer \\= window\\.dataLayer \\|\\| \\[\\]\\;dataLayer\\.push\\(\"\n",
    "        end = r\"\\)\\;\"\n",
    "        text = re.search(f\"(?<={strt})(.*?)(?={end})\",script.get_text())\n",
    "        if text != None:\n",
    "            text = json.loads(text.group())\n",
    "            product = {\n",
    "                \"code\": text['productEAN'],\n",
    "                \"brand\": text['productBrand'],\n",
    "                \"name\": text['productName']\n",
    "            }\n",
    "            return product\n",
    "\n",
    "def find_image_url(page):\n",
    "    script = page.find(\"script\",{\"type\":\"application/ld+json\"})\n",
    "    script = json.loads(script.get_text())\n",
    "    return script['image']\n",
    "\n",
    "def find_calories(page):\n",
    "    info_container = page.find(\"div\",class_=\"nutrition\")\n",
    "    \n",
    "    # find ingredients\n",
    "    ingredients = info_container.find(\"p\",class_=\"nutrition-ingredients__content\").get_text().strip()\n",
    "    \n",
    "    # find calories\n",
    "    cal = info_container.find(\"p\",class_=\"nutrition-graph__kcal\").get_text().strip().lower()\n",
    "    netto = info_container.find(\"p\",class_=\"nutrition-graph__info-text\").get_text().strip().lower()\n",
    "    netto = re.search(\"\\d+ [a-z\\/]+\",netto)\n",
    "    calories = None    \n",
    "    if netto != None:\n",
    "        calories = f\"{cal} / {netto.group()}\"\n",
    "        \n",
    "    # find nutriscore\n",
    "    nutriscore = info_container.find(\"div\",class_=\"nutrition__score\").get_text().strip()\n",
    "    return calories, ingredients\n",
    "\n",
    "image_url = find_image_url(page)\n",
    "calories, ingredients = find_calories(page)\n",
    "\n",
    "categories = []\n",
    "for li in page.find(\"ul\",class_=\"breadcrumb__list\").find_all(\"li\"):\n",
    "    categories.append(li.get_text().strip())\n",
    "\n",
    "product_data = {\n",
    "    \"code\" : product['code'],\n",
    "    \"sources\" : [\"src\"],\n",
    "    \"image_url\" : image_url,\n",
    "    \"small_image_url\" : image_url,\n",
    "    \"product_name\" : product['name'],\n",
    "    \"brand\" : product['brand'],\n",
    "    \"nutriscore\" : None,\n",
    "    \"categories\" : categories,\n",
    "    \"ingredients_text\" : ingredients,\n",
    "    \"calories\" : calories\n",
    "}\n",
    "\n",
    "product_data"
   ]
  }
 ],
 "metadata": {
  "kernelspec": {
   "display_name": "Python 3 (ipykernel)",
   "language": "python",
   "name": "python3"
  },
  "language_info": {
   "codemirror_mode": {
    "name": "ipython",
    "version": 3
   },
   "file_extension": ".py",
   "mimetype": "text/x-python",
   "name": "python",
   "nbconvert_exporter": "python",
   "pygments_lexer": "ipython3",
   "version": "3.9.10"
  }
 },
 "nbformat": 4,
 "nbformat_minor": 5
}
