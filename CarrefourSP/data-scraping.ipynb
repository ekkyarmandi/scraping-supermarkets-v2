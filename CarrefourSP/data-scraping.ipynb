{
 "cells": [
  {
   "cell_type": "code",
   "execution_count": 2,
   "id": "3bcb9830-7810-4ee6-968b-117426a17b4d",
   "metadata": {},
   "outputs": [],
   "source": [
    "import requests\n",
    "from bs4 import BeautifulSoup\n",
    "from math import ceil, nan\n",
    "import json, re, os\n",
    "\n",
    "headers = {\"user-agent\":\"Mozilla/5.0 (Windows NT 10.0; Win64; x64) AppleWebKit/537.36 (KHTML, like Gecko) Chrome/98.0.4758.82 Safari/537.36\"}\n",
    "\n",
    "def render_html(url):\n",
    "    req = requests.get(url,headers=headers)\n",
    "    page = BeautifulSoup(req.text,\"html.parser\")\n",
    "    return page"
   ]
  },
  {
   "cell_type": "code",
   "execution_count": 3,
   "id": "53d5b447-3d58-438e-8aea-3286afef512a",
   "metadata": {},
   "outputs": [],
   "source": [
    "url = \"https://www.carrefour.es/supermercado/berlinas-bombon-donuts-4-ud/R-715505824/p\"\n",
    "page = render_html(url)"
   ]
  },
  {
   "cell_type": "code",
   "execution_count": 24,
   "id": "2572d4a4-ad0c-44b1-be79-f764030952c2",
   "metadata": {},
   "outputs": [
    {
     "name": "stdout",
     "output_type": "stream",
     "text": [
      "------------------------------------------------------------------------------------------------------------------------------------------------------\n",
      "function OptanonWrapper() { var popin = document.getElementById(\"onetrust-banner-sdk\"); var rejectAll = document.querySelector(\"#onetrust-reject-all-handler\"); if(rejectAll){ rejectAll.innerHTML = \"Continuar sin aceptar\"; popin.appendChild(rejectAll);} var reject = document.getElementsByClassName(\"ot-pc-refuse-all-handler\")[0]; var content = document.getElementById(\"ot-pc-content\"); var accept = document.getElementById(\"accept-recommended-btn-handler\"); content.insertBefore(reject, accept); OneTrust.OnConsentChanged(function() { document.cookie = \"OneTrustGroupsConsent-ES=\"+OnetrustActiveGroups+\"; path=/; domain=carrefour.es; max-age=15724800\"; })}\n",
      "------------------------------------------------------------------------------------------------------------------------------------------------------\n",
      "None\n",
      "------------------------------------------------------------------------------------------------------------------------------------------------------\n",
      "var dataLayer = window.dataLayer || [];dataLayer.push({\"event\":\"gtm.datalayer\",\"cookieBannerView\":\"true\",\"cookieCurrentVersion\":\"3\",\"pageCategory\":\"cat20019-panaderia-bolleria-y-pasteleria\",\"pageCategoryTree\":\"cat20002-productos-frescos/cat20019-panaderia-bolleria-y-pasteleria/cat20161-magdalenas-dulces-y-bollos\",\"pageCode\":\"200-ok\",\"pageEnvironment\":\"pro\",\"pageEnvironmentDetail\":\"Web\",\"pageSection\":\"cat20002-productos-frescos\",\"pageSiteName\":\"supermercado\",\"pageSubCategory\":\"cat20161-magdalenas-dulces-y-bollos\",\"pageType\":\"product-page\",\"pageVersionName\":\"collage\",\"pageVersionValue\":\"version-pdp-food\",\"productAvgReviews\":\"nn\",\"productBrand\":\"donuts\",\"productEAN\":[\"8410022109674\",\"8410022110472\"],\"productName\":\"berlinas-bombon-donuts-4-ud\",\"productNumReviews\":\"nn\",\"productPrice\":\"2.19\",\"productPriceOriginal\":\"2.19\",\"productSMS\":\"488506\",\"productStock\":\"stock-z\",\"productUploadDate\":\"0001-01-01\",\"productVariantSize\":\"nn\",\"specialCampaign\":\"nn\",\"user2\":\"nn\",\"userATG\":\"nn\",\"userCp\":\"28019\",\"userEmail\":\"nn\",\"userId\":\"nn\",\"userLoginStatus\":\"not-logged\",\"userSalePoint\":\"004320\"});\n",
      "------------------------------------------------------------------------------------------------------------------------------------------------------\n",
      "output:\n",
      "{'code': ['8410022109674', '8410022110472'], 'brand': 'donuts', 'name': 'berlinas-bombon-donuts-4-ud'}\n",
      "------------------------------------------------------------------------------------------------------------------------------------------------------\n",
      "(function(w,d,s,l,i){w[l]=w[l]||[];w[l].push({'gtm.start':new Date().getTime(),event:'gtm.js'});var f=d.getElementsByTagName(s)[0],j=d.createElement(s),dl=l!='dataLayer'?'&l='+l:'';j.async=true;j.src='//www.googletagmanager.com/gtm.js?id='+i+dl;f.parentNode.insertBefore(j,f.nextSibling);})(window,document,'script','dataLayer','GTM-MSQ489T');\n",
      "------------------------------------------------------------------------------------------------------------------------------------------------------\n",
      "None\n"
     ]
    }
   ],
   "source": [
    "for script in page.find_all(\"script\",{\"type\":\"text/javascript\",\"charset\":\"utf-8\"}):\n",
    "    print(\"-\"*150)\n",
    "    print(script.text)\n",
    "    strt = r\"var dataLayer \\= window\\.dataLayer \\|\\| \\[\\]\\;dataLayer\\.push\\(\"\n",
    "    end = r\"\\)\\;\"\n",
    "    text = re.search(f\"(?<={strt})(.*?)(?={end})\",script.get_text())\n",
    "    print(\"-\"*150)\n",
    "    if text != None:\n",
    "        text = json.loads(text.group())\n",
    "        print(\"output:\")\n",
    "        product = {\n",
    "            \"code\": text['productEAN'],\n",
    "            \"brand\": text['productBrand'],\n",
    "            \"name\": text['productName']\n",
    "        }\n",
    "        print(product)\n",
    "    else:\n",
    "        print(text)"
   ]
  },
  {
   "cell_type": "code",
   "execution_count": null,
   "id": "ff255496-d18c-4910-8c3c-5ef7c8761cec",
   "metadata": {},
   "outputs": [],
   "source": [
    "product_data = {\n",
    "    \"code\" : \"\",\n",
    "    \"sources\" : [\"src\"],\n",
    "    \"image_url\" : \"\",\n",
    "    \"small_image_url\" : \"\",\n",
    "    \"product_name\" : \"\",\n",
    "    \"brand\" : \"\",\n",
    "    \"nutriscore\" : \"\",\n",
    "    \"categories\" : [\"\"],\n",
    "    \"ingredients_text\" : \"\",\n",
    "    \"calories\" : \"\"\n",
    "}"
   ]
  }
 ],
 "metadata": {
  "kernelspec": {
   "display_name": "Python 3 (ipykernel)",
   "language": "python",
   "name": "python3"
  },
  "language_info": {
   "codemirror_mode": {
    "name": "ipython",
    "version": 3
   },
   "file_extension": ".py",
   "mimetype": "text/x-python",
   "name": "python",
   "nbconvert_exporter": "python",
   "pygments_lexer": "ipython3",
   "version": "3.9.10"
  }
 },
 "nbformat": 4,
 "nbformat_minor": 5
}
