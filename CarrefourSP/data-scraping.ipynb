{
 "cells": [
  {
   "cell_type": "code",
   "execution_count": null,
   "id": "3bcb9830-7810-4ee6-968b-117426a17b4d",
   "metadata": {},
   "outputs": [],
   "source": [
    "import requests\n",
    "from bs4 import BeautifulSoup\n",
    "from math import ceil, nan\n",
    "import json, re, os\n",
    "\n",
    "headers = {\"user-agent\":\"Mozilla/5.0 (Windows NT 10.0; Win64; x64) AppleWebKit/537.36 (KHTML, like Gecko) Chrome/98.0.4758.82 Safari/537.36\"}\n",
    "\n",
    "def render_html(url):\n",
    "    req = requests.get(url,headers=headers)\n",
    "    page = BeautifulSoup(req.text,\"html.parser\")\n",
    "    return page"
   ]
  },
  {
   "cell_type": "code",
   "execution_count": null,
   "id": "53d5b447-3d58-438e-8aea-3286afef512a",
   "metadata": {},
   "outputs": [],
   "source": [
    "url = \"\"\n",
    "page = render_html(url)"
   ]
  },
  {
   "cell_type": "code",
   "execution_count": null,
   "id": "ff255496-d18c-4910-8c3c-5ef7c8761cec",
   "metadata": {},
   "outputs": [],
   "source": [
    "product_data = {\n",
    "    \"code\" : \"\",\n",
    "    \"sources\" : [\"https://www.auchan.fr/auchan-saumon-fume-de-norvege-mini/pr-C1182526\"],\n",
    "    \"image_url\" : \"https://media.auchan.fr/MEDIASTEP65568709_512x512/B2CD/\",\n",
    "    \"small_image_url\" : \"https://media.auchan.fr/MEDIASTEP65568709_512x512/B2CD/\",\n",
    "    \"product_name\" : \"\",\n",
    "    \"brand\" : \"\",\n",
    "    \"nutriscore\" : \"\",\n",
    "    \"categories\" : [\"Accueil\", \"Boucherie\"],\n",
    "    \"ingredients_text\" : \"\",\n",
    "    \"calories\" : \"\",\n",
    "}"
   ]
  }
 ],
 "metadata": {
  "kernelspec": {
   "display_name": "Python 3 (ipykernel)",
   "language": "python",
   "name": "python3"
  },
  "language_info": {
   "codemirror_mode": {
    "name": "ipython",
    "version": 3
   },
   "file_extension": ".py",
   "mimetype": "text/x-python",
   "name": "python",
   "nbconvert_exporter": "python",
   "pygments_lexer": "ipython3",
   "version": "3.9.10"
  }
 },
 "nbformat": 4,
 "nbformat_minor": 5
}
