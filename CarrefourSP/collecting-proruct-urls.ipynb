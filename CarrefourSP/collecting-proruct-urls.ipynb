{
 "cells": [
  {
   "cell_type": "code",
   "execution_count": 1,
   "id": "3bcb9830-7810-4ee6-968b-117426a17b4d",
   "metadata": {},
   "outputs": [],
   "source": [
    "import requests\n",
    "from bs4 import BeautifulSoup\n",
    "from math import ceil, nan\n",
    "import json, re, os\n",
    "\n",
    "headers = {\"user-agent\":\"Mozilla/5.0 (Windows NT 10.0; Win64; x64) AppleWebKit/537.36 (KHTML, like Gecko) Chrome/98.0.4758.82 Safari/537.36\"}\n",
    "\n",
    "def render_html(url):\n",
    "    req = requests.get(url,headers=headers)\n",
    "    page = BeautifulSoup(req.text,\"html.parser\")\n",
    "    return page\n",
    "\n",
    "def get_max(page):\n",
    "    total = page.find(\"span\",class_=\"plp-food-view__count\").get_text()\n",
    "    total = int(\"\".join(re.findall(\"\\d+\",total)))\n",
    "    return ceil(total/24)\n",
    "\n",
    "def get_links(browser):\n",
    "    # check for the xpath\n",
    "    try:\n",
    "        links = []\n",
    "        xpath = '//*[@id=\"app\"]/div/main/div[2]/div[1]/div[2]/div[2]/div[2]/div'\n",
    "        WebDriverWait(browser,10).until(\n",
    "            EC.presence_of_element_located((By.XPATH,xpath))\n",
    "        )\n",
    "\n",
    "        # scroll to the bottom\n",
    "        actions = ActionChains(browser)\n",
    "        element = browser.find_element(By.XPATH,xpath)\n",
    "        actions.move_to_element(element).perform()\n",
    "\n",
    "        # scrape all jobs\n",
    "        page = BeautifulSoup(browser.page_source,\"html.parser\")\n",
    "        ref = \"https://www.carrefour.es\"\n",
    "        for a in page.find_all(\"a\",class_=\"product-card__title-link\"):\n",
    "            link = a['href']\n",
    "            if ref not in link:\n",
    "                link = ref + link\n",
    "            links.append(link)\n",
    "        \n",
    "        return links\n",
    "    except: pass"
   ]
  },
  {
   "cell_type": "code",
   "execution_count": 27,
   "id": "2656b2bc-f78b-49d6-8da8-138103266439",
   "metadata": {},
   "outputs": [],
   "source": [
    "from selenium.webdriver.common.by import By\n",
    "from selenium.webdriver.support.ui import WebDriverWait\n",
    "from selenium.webdriver.support import expected_conditions as EC\n",
    "from selenium.webdriver import Chrome\n",
    "import chromedriver_binary\n",
    "\n",
    "try:\n",
    "    browser.quit()\n",
    "    browser = Chrome()\n",
    "except:\n",
    "    browser = Chrome()\n",
    "\n",
    "url = \"https://www.carrefour.es/supermercado/mascotas-promocion/F-105jZp643/c\"\n",
    "browser.get(url)"
   ]
  },
  {
   "cell_type": "code",
   "execution_count": 31,
   "id": "4bcf5ff1-343b-4fc2-a831-6577a4d28edc",
   "metadata": {},
   "outputs": [],
   "source": [
    "page = BeautifulSoup(browser.page_source,\"html.parser\")"
   ]
  },
  {
   "cell_type": "code",
   "execution_count": 23,
   "id": "53d5b447-3d58-438e-8aea-3286afef512a",
   "metadata": {},
   "outputs": [],
   "source": [
    "# url = \"https://www.carrefour.es/supermercado/mascotas-promocion/F-105jZp643/c\"\n",
    "# page = render_html(url)"
   ]
  },
  {
   "cell_type": "code",
   "execution_count": null,
   "id": "9e1e0db3-a182-4656-8099-ca9180847ae3",
   "metadata": {},
   "outputs": [],
   "source": [
    "urls = [\n",
    "    \"https://www.carrefour.es/supermercado/mascotas-promocion/F-105jZp643/c\",\n",
    "    \"https://www.carrefour.es/supermercado/el-mercado/cat20002/c\",\n",
    "    \"https://www.carrefour.es/supermercado/bebidas/cat20003/c\",\n",
    "    \"https://www.carrefour.es/supermercado/la-despensa/cat20001/c\"\n",
    "]"
   ]
  },
  {
   "cell_type": "code",
   "execution_count": 13,
   "id": "d3b7031a-c241-4382-95d1-1f498d469cb3",
   "metadata": {},
   "outputs": [
    {
     "data": {
      "text/plain": [
       "6"
      ]
     },
     "execution_count": 13,
     "metadata": {},
     "output_type": "execute_result"
    }
   ],
   "source": [
    "max_page = get_max(page)"
   ]
  },
  {
   "cell_type": "code",
   "execution_count": null,
   "id": "15991a65-1c59-409a-ae66-f7dc63355787",
   "metadata": {},
   "outputs": [],
   "source": [
    "ref = \"https://www.carrefour.es\"\n",
    "for a in page.find_all(\"a\",class_=\"product-card__title-link\"):\n",
    "    link = a['href']\n",
    "    if ref not in link:\n",
    "        link = ref + link\n",
    "    links.append(link)\n",
    "    print(link)"
   ]
  },
  {
   "cell_type": "code",
   "execution_count": 22,
   "id": "478738ba-3ee3-4c8c-8b21-ab8ad0802c57",
   "metadata": {},
   "outputs": [
    {
     "data": {
      "text/plain": [
       "24"
      ]
     },
     "execution_count": 22,
     "metadata": {},
     "output_type": "execute_result"
    }
   ],
   "source": []
  },
  {
   "cell_type": "code",
   "execution_count": 53,
   "id": "f798c511-06dc-460d-8e8b-51f26d414c97",
   "metadata": {},
   "outputs": [],
   "source": [
    "from selenium.webdriver.common.action_chains import ActionChains\n",
    "\n",
    "xpath = '//*[@id=\"app\"]/div/main/div[2]/div[1]/div[2]/div[2]/div[2]/div/div[2]'\n",
    "\n",
    "element = browser.find_element(By.CLASS_NAME, \"pagination\")\n",
    "\n",
    "actions = ActionChains(browser)\n",
    "actions.move_to_element(element).perform()"
   ]
  },
  {
   "cell_type": "code",
   "execution_count": null,
   "id": "e98bf4a4-12a3-4a36-ba31-10be3973b712",
   "metadata": {},
   "outputs": [],
   "source": [
    "# visit the url\n",
    "url = \"https://www.carrefour.es/supermercado/la-despensa/cat20001/c\"\n",
    "print(url)\n",
    "browser.get(url)\n",
    "\n",
    "# find the max. page\n",
    "page = BeautifulSoup(browser.page_source,\"html.parser\")\n",
    "max_page = get_max(page)\n",
    "\n",
    "# find all product links\n",
    "links = get_links(browser)\n",
    "\n",
    "# iterate the next page\n",
    "for i in range(1,max_page+1):\n",
    "    new_url = url + f\"?offset={i*24}\"\n",
    "    browser.get(new_url)\n",
    "    links.extend(get_links(browser))\n",
    "    print(f\"{new_url} ({len(links)})\")\n"
   ]
  },
  {
   "cell_type": "code",
   "execution_count": 61,
   "id": "08988310-5675-4513-8efd-9507c006ead3",
   "metadata": {},
   "outputs": [
    {
     "name": "stdout",
     "output_type": "stream",
     "text": [
      "total products: 949\n"
     ]
    }
   ],
   "source": [
    "links = list(dict.fromkeys(links))\n",
    "json.dump(links,open(\"./urls/chips.json\",\"w\"),indent=4)\n",
    "print(\"total products:\",len(links))"
   ]
  },
  {
   "cell_type": "code",
   "execution_count": 2,
   "id": "f42027ab-994a-4a37-ac0d-2bac4fa3a6b1",
   "metadata": {},
   "outputs": [
    {
     "name": "stdout",
     "output_type": "stream",
     "text": [
      "done. total urls 3325.\n"
     ]
    }
   ],
   "source": [
    "root = \"./urls/\"\n",
    "data = []\n",
    "for file in os.listdir(root):\n",
    "    if file.endswith(\"json\"):\n",
    "        data.extend(json.load(open(root+file)))\n",
    "data = list(dict.fromkeys(data))\n",
    "json.dump(data,open(root+\"product_urls.json\",\"w\"),indent=4)\n",
    "print(f\"done. total urls {len(data)}.\")"
   ]
  }
 ],
 "metadata": {
  "kernelspec": {
   "display_name": "Python 3 (ipykernel)",
   "language": "python",
   "name": "python3"
  },
  "language_info": {
   "codemirror_mode": {
    "name": "ipython",
    "version": 3
   },
   "file_extension": ".py",
   "mimetype": "text/x-python",
   "name": "python",
   "nbconvert_exporter": "python",
   "pygments_lexer": "ipython3",
   "version": "3.9.10"
  }
 },
 "nbformat": 4,
 "nbformat_minor": 5
}
